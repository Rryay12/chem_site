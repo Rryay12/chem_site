{
 "cells": [
  {
   "cell_type": "code",
   "execution_count": 13,
   "metadata": {},
   "outputs": [],
   "source": [
    "import reaction"
   ]
  },
  {
   "cell_type": "code",
   "execution_count": 14,
   "metadata": {},
   "outputs": [],
   "source": [
    "reaction = reaction.reaction()"
   ]
  },
  {
   "cell_type": "code",
   "execution_count": 15,
   "metadata": {},
   "outputs": [],
   "source": [
    "reaction.set_k(100)\n",
    "reaction.add_molecule(\"H2\",3,0.4,False)\n",
    "reaction.add_molecule(\"N2\",1,0.6,False)\n",
    "#reaction.add_molecule(\"CaO\",1,1,False)\n",
    "#reaction.add_molecule(\"Ca(NO3)2\",1,1,True)\n",
    "reaction.add_molecule(\"H2O\",3,0.4,True)"
   ]
  },
  {
   "cell_type": "code",
   "execution_count": 16,
   "metadata": {},
   "outputs": [],
   "source": [
    "reaction.make_graph(t_span=(0,10),num_points=1000,link=\"/Users/ard/Desktop/Coding/kandasamy/myproject/static/images\")"
   ]
  }
 ],
 "metadata": {
  "kernelspec": {
   "display_name": ".venv",
   "language": "python",
   "name": "python3"
  },
  "language_info": {
   "codemirror_mode": {
    "name": "ipython",
    "version": 3
   },
   "file_extension": ".py",
   "mimetype": "text/x-python",
   "name": "python",
   "nbconvert_exporter": "python",
   "pygments_lexer": "ipython3",
   "version": "3.12.4"
  }
 },
 "nbformat": 4,
 "nbformat_minor": 2
}
